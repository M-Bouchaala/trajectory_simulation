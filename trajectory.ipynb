{
 "cells": [
  {
   "cell_type": "code",
   "execution_count": 2,
   "metadata": {},
   "outputs": [],
   "source": [
    "import sympy as sp\n",
    "import numpy as np\n",
    "import matplotlib as plt\n",
    "\n",
    "# https://docs.sympy.org/latest/index.html"
   ]
  },
  {
   "cell_type": "code",
   "execution_count": 95,
   "metadata": {},
   "outputs": [
    {
     "data": {
      "text/latex": [
       "$\\displaystyle \\left[\\begin{matrix}m \\frac{d^{2}}{d t^{2}} x{\\left(t \\right)}\\\\m \\frac{d^{2}}{d t^{2}} y{\\left(t \\right)}\\end{matrix}\\right] = \\left[\\begin{matrix}0\\\\g m\\end{matrix}\\right]$"
      ],
      "text/plain": [
       "Eq(Matrix([\n",
       "[m*Derivative(x(t), (t, 2))],\n",
       "[m*Derivative(y(t), (t, 2))]]), Matrix([\n",
       "[  0],\n",
       "[g*m]]))"
      ]
     },
     "execution_count": 95,
     "metadata": {},
     "output_type": "execute_result"
    }
   ],
   "source": [
    "#initialize symbols and time functions\n",
    "t, x_0, y_0, v_0, Theta, g, m =sp.symbols(r't x_0 y_0 v_0 \\Theta g m') \n",
    "g=sp.Matrix([[0],[g]])\n",
    "x =sp.Function('x')(t)\n",
    "y =sp.Function('y')(t)\n",
    "\n",
    "\"\"\" x_dot = sp.Derivative(x,t)\n",
    "x_ddot = x_dot.diff(t)\n",
    "y_dot = sp.Derivative(y,t)\n",
    "y_ddot = y_dot.diff(t) \"\"\"\n",
    "\n",
    "position = sp.Matrix([[x],[y]])\n",
    "velocity = position.diff(t)\n",
    "acceleration = velocity.diff(t)\n",
    "motion_eqt = sp.Eq(m*acceleration,m*g)\n",
    "motion_eqt\n"
   ]
  },
  {
   "cell_type": "code",
   "execution_count": 134,
   "metadata": {},
   "outputs": [
    {
     "data": {
      "text/plain": [
       "(Eq(x(t), C1 + C2*t), Eq(y(t), C3 + C4*t + g*t**2/2))"
      ]
     },
     "execution_count": 134,
     "metadata": {},
     "output_type": "execute_result"
    }
   ],
   "source": [
    "ode = m*acceleration-m*g\n",
    "ode_flattened = ode.T.tolist()[0]\n",
    "x_sol, y_sol=sp.dsolve(ode_flattened,[x,y])\n",
    "x_sol, y_sol\n"
   ]
  },
  {
   "cell_type": "code",
   "execution_count": null,
   "metadata": {},
   "outputs": [],
   "source": []
  }
 ],
 "metadata": {
  "kernelspec": {
   "display_name": "base",
   "language": "python",
   "name": "python3"
  },
  "language_info": {
   "codemirror_mode": {
    "name": "ipython",
    "version": 3
   },
   "file_extension": ".py",
   "mimetype": "text/x-python",
   "name": "python",
   "nbconvert_exporter": "python",
   "pygments_lexer": "ipython3",
   "version": "3.11.5"
  }
 },
 "nbformat": 4,
 "nbformat_minor": 2
}
