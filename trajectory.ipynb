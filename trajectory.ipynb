{
 "cells": [
  {
   "cell_type": "code",
   "execution_count": null,
   "metadata": {},
   "outputs": [],
   "source": [
    "import sympy as sp\n",
    "import numpy as np\n",
    "import matplotlib.pyplot as plt\n",
    "\n",
    "# https://docs.sympy.org/latest/index.html\n",
    "\n",
    "sp.init_printing() "
   ]
  },
  {
   "cell_type": "code",
   "execution_count": null,
   "metadata": {},
   "outputs": [],
   "source": [
    "#initialize symbols and time functions\n",
    "t, x_0, y_0, v_0, Theta, g, m =sp.symbols(r't x_0 y_0 v_0 \\Theta g m') \n",
    "g_vector=sp.Matrix([[0],[-g]])\n",
    "x, y =sp.symbols(r'x y', cls=sp.Function)\n",
    "x, y= x(t), y(t)\n",
    "#x =sp.Function('x')(t)\n",
    "#y =sp.Function('y')(t)\n",
    "\n",
    "\"\"\" x_dot = sp.Derivative(x,t)\n",
    "x_ddot = x_dot.diff(t)\n",
    "y_dot = sp.Derivative(y,t)\n",
    "y_ddot = y_dot.diff(t) \"\"\"\n",
    "\n",
    "position = sp.Matrix([[x],[y]])\n",
    "velocity = position.diff(t)\n",
    "acceleration = velocity.diff(t)\n",
    "motion_eqt = sp.Eq(m*acceleration,m*g_vector)\n",
    "motion_eqt\n"
   ]
  },
  {
   "cell_type": "code",
   "execution_count": null,
   "metadata": {},
   "outputs": [],
   "source": [
    "ode = m*acceleration-m*g_vector\n",
    "ode_flattened = ode.T.tolist()[0]\n",
    "initial_conditions={x.subs(t,0): x_0, \n",
    "                    x.diff(t).subs(t, 0): v_0 * sp.cos(Theta),\n",
    "                    y.subs(t,0): y_0, \n",
    "                    y.diff(t).subs(t, 0): v_0 * sp.sin(Theta),\n",
    "                    }\n",
    "x_sol_eq, y_sol_eq = sp.dsolve(ode_flattened,[x,y],ics=initial_conditions)\n",
    "x_sol, y_sol = x_sol_eq.rhs, y_sol_eq.rhs\n",
    "\n",
    "x_sol, y_sol, x_sol_eq, y_sol_eq"
   ]
  },
  {
   "cell_type": "code",
   "execution_count": null,
   "metadata": {},
   "outputs": [],
   "source": [
    "# numeric functions\n",
    "numeric_x_sol = sp.lambdify((t, x_0, y_0, v_0, Theta, g, m), x_sol)\n",
    "numeric_y_sol = sp.lambdify((t, x_0, y_0, v_0, Theta, g, m), y_sol)\n",
    "numeric_vx_sol = sp.lambdify((t, x_0, y_0, v_0, Theta, g, m), x_sol.diff(t))\n",
    "numeric_vy_sol = sp.lambdify((t, x_0, y_0, v_0, Theta, g, m), y_sol.diff(t))\n"
   ]
  },
  {
   "cell_type": "code",
   "execution_count": null,
   "metadata": {},
   "outputs": [],
   "source": [
    "#plot trajectory \n",
    "Nbr_points=100\n",
    "time_line = np.linspace(0,1,Nbr_points)\n",
    "num_x = numeric_x_sol(time_line, 0, 5, 8, np.pi/4, 10, 0.5)\n",
    "num_y = numeric_y_sol(time_line, 0, 5, 8, np.pi/4, 10, 0.5)\n",
    "# vector field\n",
    "num_vx = numeric_vx_sol(time_line, 0, 5, 8, np.pi/4, 10, 0.5)\n",
    "num_vy = numeric_vy_sol(time_line, 0, 5, 8, np.pi/4, 10, 0.5)"
   ]
  },
  {
   "cell_type": "code",
   "execution_count": null,
   "metadata": {},
   "outputs": [],
   "source": [
    "\n",
    "fig_t, ax_t = plt.subplots(nrows=1, ncols=2, constrained_layout=True, figsize=(10, 4))\n",
    "ax_t[0].plot(num_x,num_y)\n",
    "ax_t[0].set_xlabel(\"x(m)\")\n",
    "ax_t[0].set_ylabel(\"y(m)\")\n",
    "ax_t[1].quiver(num_x,num_y,num_vx, num_vy, units='dots', scale=1, color='b')\n",
    "plt.xlabel(\"x(m)\")\n",
    "ax_t[1].set_ylabel(\"y(m)\")\n",
    "\n",
    "fig, ax = plt.subplots(nrows=2, ncols=1, constrained_layout=True)\n",
    "ax[0].plot(time_line, [num_vx]*Nbr_points)\n",
    "ax[0].set_ylabel(\"v_x\")\n",
    "ax[1].plot(time_line,num_vy)\n",
    "ax[1].set_ylabel(\"v_y\")\n",
    "\n",
    "# common axis labels\n",
    "fig.supxlabel(\"t(s)\")"
   ]
  },
  {
   "cell_type": "code",
   "execution_count": null,
   "metadata": {},
   "outputs": [],
   "source": [
    "# y = y(x) \n",
    "x_x, y_y = sp.symbols('x_x y_y')\n",
    "\"\"\" y_y = sp.symbols('y_y', cls=sp.Function)\n",
    "y_y=y_y(x_x) \"\"\"\n",
    "x_as_a_symbol_eq = x_sol_eq.subs(x,x_x)\n",
    "tx_sol = sp.solve(x_as_a_symbol_eq,t)[0]\n",
    "y_as_a_symbol_eq = y_sol_eq.subs(y,y_y)\n",
    "y_x_sol = y_as_a_symbol_eq.subs(t,tx_sol)\n",
    "#y_x_sol=sp.trigsimp(y_x_sol)\n",
    "sp.pprint(y_x_sol)\n",
    "\n",
    "# find vertex\n",
    "y_dot_prime = y_x_sol.rhs.diff(x_x)\n",
    "x_heighest = sp.solve(sp.Eq(y_dot_prime,0),x_x)[0]\n",
    "sp.pprint(x_heighest.diff(Theta))\n",
    "Thata_highest=sp.solve(sp.Eq(x_heighest.diff(Theta),0),Theta)\n",
    "print(Thata_highest)\n",
    "\n",
    "# numeric\n",
    "numeric_y_x = sp.lambdify((x_x, x_0, y_0, v_0, Theta, g, m), y_x_sol)\n"
   ]
  },
  {
   "cell_type": "code",
   "execution_count": null,
   "metadata": {},
   "outputs": [],
   "source": []
  },
  {
   "cell_type": "code",
   "execution_count": null,
   "metadata": {},
   "outputs": [],
   "source": []
  }
 ],
 "metadata": {
  "kernelspec": {
   "display_name": "base",
   "language": "python",
   "name": "python3"
  },
  "language_info": {
   "codemirror_mode": {
    "name": "ipython",
    "version": 3
   },
   "file_extension": ".py",
   "mimetype": "text/x-python",
   "name": "python",
   "nbconvert_exporter": "python",
   "pygments_lexer": "ipython3",
   "version": "3.11.5"
  }
 },
 "nbformat": 4,
 "nbformat_minor": 2
}
